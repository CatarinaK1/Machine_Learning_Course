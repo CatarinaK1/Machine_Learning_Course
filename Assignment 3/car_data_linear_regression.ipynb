{
 "cells": [
  {
   "cell_type": "code",
   "execution_count": 1,
   "metadata": {},
   "outputs": [],
   "source": [
    "import pandas as pd\n",
    "from matplotlib import pyplot as plt\n",
    "%matplotlib inline"
   ]
  },
  {
   "cell_type": "markdown",
   "metadata": {},
   "source": [
    "### Initializing Dataset  "
   ]
  },
  {
   "cell_type": "code",
   "execution_count": 3,
   "metadata": {},
   "outputs": [],
   "source": [
    "# Read the data from the csv file\n",
    "df_rawData = pd.read_excel('autoMPG_data.xlsx')\n"
   ]
  },
  {
   "cell_type": "code",
   "execution_count": 4,
   "metadata": {},
   "outputs": [
    {
     "data": {
      "text/html": [
       "<div>\n",
       "<style scoped>\n",
       "    .dataframe tbody tr th:only-of-type {\n",
       "        vertical-align: middle;\n",
       "    }\n",
       "\n",
       "    .dataframe tbody tr th {\n",
       "        vertical-align: top;\n",
       "    }\n",
       "\n",
       "    .dataframe thead th {\n",
       "        text-align: right;\n",
       "    }\n",
       "</style>\n",
       "<table border=\"1\" class=\"dataframe\">\n",
       "  <thead>\n",
       "    <tr style=\"text-align: right;\">\n",
       "      <th></th>\n",
       "      <th>GallonsPer100Miles</th>\n",
       "      <th>GallonsPer100MilesTo1981</th>\n",
       "      <th>MPG</th>\n",
       "      <th>Cylinders</th>\n",
       "      <th>Displacement100ci</th>\n",
       "      <th>Horsepower100</th>\n",
       "      <th>Weight1000lb</th>\n",
       "      <th>Seconds0to60</th>\n",
       "      <th>Year</th>\n",
       "      <th>Year70To81</th>\n",
       "      <th>Origin</th>\n",
       "      <th>Origin.Eq.1</th>\n",
       "      <th>Origin.Eq.2</th>\n",
       "      <th>Origin.Eq.3</th>\n",
       "      <th>Name</th>\n",
       "    </tr>\n",
       "  </thead>\n",
       "  <tbody>\n",
       "    <tr>\n",
       "      <th>0</th>\n",
       "      <td>5.555556</td>\n",
       "      <td>5.555556</td>\n",
       "      <td>18.0</td>\n",
       "      <td>8</td>\n",
       "      <td>3.07</td>\n",
       "      <td>1.30</td>\n",
       "      <td>3.504</td>\n",
       "      <td>12.0</td>\n",
       "      <td>70</td>\n",
       "      <td>1</td>\n",
       "      <td>1</td>\n",
       "      <td>1</td>\n",
       "      <td>0</td>\n",
       "      <td>0</td>\n",
       "      <td>chevrolet chevelle malibu</td>\n",
       "    </tr>\n",
       "    <tr>\n",
       "      <th>1</th>\n",
       "      <td>6.666667</td>\n",
       "      <td>6.666667</td>\n",
       "      <td>15.0</td>\n",
       "      <td>8</td>\n",
       "      <td>3.50</td>\n",
       "      <td>1.65</td>\n",
       "      <td>3.693</td>\n",
       "      <td>11.5</td>\n",
       "      <td>70</td>\n",
       "      <td>1</td>\n",
       "      <td>1</td>\n",
       "      <td>1</td>\n",
       "      <td>0</td>\n",
       "      <td>0</td>\n",
       "      <td>buick skylark 320</td>\n",
       "    </tr>\n",
       "    <tr>\n",
       "      <th>2</th>\n",
       "      <td>5.555556</td>\n",
       "      <td>5.555556</td>\n",
       "      <td>18.0</td>\n",
       "      <td>8</td>\n",
       "      <td>3.18</td>\n",
       "      <td>1.50</td>\n",
       "      <td>3.436</td>\n",
       "      <td>11.0</td>\n",
       "      <td>70</td>\n",
       "      <td>1</td>\n",
       "      <td>1</td>\n",
       "      <td>1</td>\n",
       "      <td>0</td>\n",
       "      <td>0</td>\n",
       "      <td>plymouth satellite</td>\n",
       "    </tr>\n",
       "    <tr>\n",
       "      <th>3</th>\n",
       "      <td>6.250000</td>\n",
       "      <td>6.250000</td>\n",
       "      <td>16.0</td>\n",
       "      <td>8</td>\n",
       "      <td>3.04</td>\n",
       "      <td>1.50</td>\n",
       "      <td>3.433</td>\n",
       "      <td>12.0</td>\n",
       "      <td>70</td>\n",
       "      <td>1</td>\n",
       "      <td>1</td>\n",
       "      <td>1</td>\n",
       "      <td>0</td>\n",
       "      <td>0</td>\n",
       "      <td>amc rebel sst</td>\n",
       "    </tr>\n",
       "    <tr>\n",
       "      <th>4</th>\n",
       "      <td>5.882353</td>\n",
       "      <td>5.882353</td>\n",
       "      <td>17.0</td>\n",
       "      <td>8</td>\n",
       "      <td>3.02</td>\n",
       "      <td>1.40</td>\n",
       "      <td>3.449</td>\n",
       "      <td>10.5</td>\n",
       "      <td>70</td>\n",
       "      <td>1</td>\n",
       "      <td>1</td>\n",
       "      <td>1</td>\n",
       "      <td>0</td>\n",
       "      <td>0</td>\n",
       "      <td>ford torino</td>\n",
       "    </tr>\n",
       "    <tr>\n",
       "      <th>...</th>\n",
       "      <td>...</td>\n",
       "      <td>...</td>\n",
       "      <td>...</td>\n",
       "      <td>...</td>\n",
       "      <td>...</td>\n",
       "      <td>...</td>\n",
       "      <td>...</td>\n",
       "      <td>...</td>\n",
       "      <td>...</td>\n",
       "      <td>...</td>\n",
       "      <td>...</td>\n",
       "      <td>...</td>\n",
       "      <td>...</td>\n",
       "      <td>...</td>\n",
       "      <td>...</td>\n",
       "    </tr>\n",
       "    <tr>\n",
       "      <th>387</th>\n",
       "      <td>3.703704</td>\n",
       "      <td>NaN</td>\n",
       "      <td>27.0</td>\n",
       "      <td>4</td>\n",
       "      <td>1.40</td>\n",
       "      <td>0.86</td>\n",
       "      <td>2.790</td>\n",
       "      <td>15.6</td>\n",
       "      <td>82</td>\n",
       "      <td>0</td>\n",
       "      <td>1</td>\n",
       "      <td>1</td>\n",
       "      <td>0</td>\n",
       "      <td>0</td>\n",
       "      <td>ford mustang gl</td>\n",
       "    </tr>\n",
       "    <tr>\n",
       "      <th>388</th>\n",
       "      <td>2.272727</td>\n",
       "      <td>NaN</td>\n",
       "      <td>44.0</td>\n",
       "      <td>4</td>\n",
       "      <td>0.97</td>\n",
       "      <td>0.52</td>\n",
       "      <td>2.130</td>\n",
       "      <td>24.6</td>\n",
       "      <td>82</td>\n",
       "      <td>0</td>\n",
       "      <td>2</td>\n",
       "      <td>0</td>\n",
       "      <td>1</td>\n",
       "      <td>0</td>\n",
       "      <td>vw pickup</td>\n",
       "    </tr>\n",
       "    <tr>\n",
       "      <th>389</th>\n",
       "      <td>3.125000</td>\n",
       "      <td>NaN</td>\n",
       "      <td>32.0</td>\n",
       "      <td>4</td>\n",
       "      <td>1.35</td>\n",
       "      <td>0.84</td>\n",
       "      <td>2.295</td>\n",
       "      <td>11.6</td>\n",
       "      <td>82</td>\n",
       "      <td>0</td>\n",
       "      <td>1</td>\n",
       "      <td>1</td>\n",
       "      <td>0</td>\n",
       "      <td>0</td>\n",
       "      <td>dodge rampage</td>\n",
       "    </tr>\n",
       "    <tr>\n",
       "      <th>390</th>\n",
       "      <td>3.571429</td>\n",
       "      <td>NaN</td>\n",
       "      <td>28.0</td>\n",
       "      <td>4</td>\n",
       "      <td>1.20</td>\n",
       "      <td>0.79</td>\n",
       "      <td>2.625</td>\n",
       "      <td>18.6</td>\n",
       "      <td>82</td>\n",
       "      <td>0</td>\n",
       "      <td>1</td>\n",
       "      <td>1</td>\n",
       "      <td>0</td>\n",
       "      <td>0</td>\n",
       "      <td>ford ranger</td>\n",
       "    </tr>\n",
       "    <tr>\n",
       "      <th>391</th>\n",
       "      <td>3.225806</td>\n",
       "      <td>NaN</td>\n",
       "      <td>31.0</td>\n",
       "      <td>4</td>\n",
       "      <td>1.19</td>\n",
       "      <td>0.82</td>\n",
       "      <td>2.720</td>\n",
       "      <td>19.4</td>\n",
       "      <td>82</td>\n",
       "      <td>0</td>\n",
       "      <td>1</td>\n",
       "      <td>1</td>\n",
       "      <td>0</td>\n",
       "      <td>0</td>\n",
       "      <td>chevy s-10</td>\n",
       "    </tr>\n",
       "  </tbody>\n",
       "</table>\n",
       "<p>392 rows × 15 columns</p>\n",
       "</div>"
      ],
      "text/plain": [
       "     GallonsPer100Miles  GallonsPer100MilesTo1981   MPG  Cylinders  \\\n",
       "0              5.555556                  5.555556  18.0          8   \n",
       "1              6.666667                  6.666667  15.0          8   \n",
       "2              5.555556                  5.555556  18.0          8   \n",
       "3              6.250000                  6.250000  16.0          8   \n",
       "4              5.882353                  5.882353  17.0          8   \n",
       "..                  ...                       ...   ...        ...   \n",
       "387            3.703704                       NaN  27.0          4   \n",
       "388            2.272727                       NaN  44.0          4   \n",
       "389            3.125000                       NaN  32.0          4   \n",
       "390            3.571429                       NaN  28.0          4   \n",
       "391            3.225806                       NaN  31.0          4   \n",
       "\n",
       "     Displacement100ci  Horsepower100  Weight1000lb  Seconds0to60  Year  \\\n",
       "0                 3.07           1.30         3.504          12.0    70   \n",
       "1                 3.50           1.65         3.693          11.5    70   \n",
       "2                 3.18           1.50         3.436          11.0    70   \n",
       "3                 3.04           1.50         3.433          12.0    70   \n",
       "4                 3.02           1.40         3.449          10.5    70   \n",
       "..                 ...            ...           ...           ...   ...   \n",
       "387               1.40           0.86         2.790          15.6    82   \n",
       "388               0.97           0.52         2.130          24.6    82   \n",
       "389               1.35           0.84         2.295          11.6    82   \n",
       "390               1.20           0.79         2.625          18.6    82   \n",
       "391               1.19           0.82         2.720          19.4    82   \n",
       "\n",
       "     Year70To81  Origin  Origin.Eq.1  Origin.Eq.2  Origin.Eq.3  \\\n",
       "0             1       1            1            0            0   \n",
       "1             1       1            1            0            0   \n",
       "2             1       1            1            0            0   \n",
       "3             1       1            1            0            0   \n",
       "4             1       1            1            0            0   \n",
       "..          ...     ...          ...          ...          ...   \n",
       "387           0       1            1            0            0   \n",
       "388           0       2            0            1            0   \n",
       "389           0       1            1            0            0   \n",
       "390           0       1            1            0            0   \n",
       "391           0       1            1            0            0   \n",
       "\n",
       "                          Name  \n",
       "0    chevrolet chevelle malibu  \n",
       "1            buick skylark 320  \n",
       "2           plymouth satellite  \n",
       "3                amc rebel sst  \n",
       "4                  ford torino  \n",
       "..                         ...  \n",
       "387            ford mustang gl  \n",
       "388                  vw pickup  \n",
       "389              dodge rampage  \n",
       "390                ford ranger  \n",
       "391                 chevy s-10  \n",
       "\n",
       "[392 rows x 15 columns]"
      ]
     },
     "execution_count": 4,
     "metadata": {},
     "output_type": "execute_result"
    }
   ],
   "source": [
    "df_rawData"
   ]
  },
  {
   "cell_type": "markdown",
   "metadata": {},
   "source": [
    "before you build your linear regression model, remember to first study the variables one by one to understand your data. This includes: checking for any missing values, using describe(), info(), making graphs, etc."
   ]
  },
  {
   "cell_type": "markdown",
   "metadata": {},
   "source": [
    "##  Histograms"
   ]
  },
  {
   "cell_type": "code",
   "execution_count": 9,
   "metadata": {},
   "outputs": [
    {
     "data": {
      "text/plain": [
       "<Axes: xlabel='X', ylabel='%, n='>"
      ]
     },
     "execution_count": 9,
     "metadata": {},
     "output_type": "execute_result"
    },
    {
     "data": {
      "image/png": "[encoded data removed]",
      "text/plain": [
       "<Figure size 640x480 with 1 Axes>"
      ]
     },
     "metadata": {},
     "output_type": "display_data"
    }
   ],
   "source": [
    "df_histogram = df_rawData['GallonsPer100Miles'].hist( color=\"plum\", edgecolor=\"plum\")\n",
    "plt.xlabel('X')\n",
    "plt.ylabel('%, n=')\n",
    "\n",
    "df_histogram"
   ]
  },
  {
   "cell_type": "code",
   "execution_count": 10,
   "metadata": {},
   "outputs": [
    {
     "data": {
      "text/plain": [
       "<Axes: xlabel='X', ylabel='%, n='>"
      ]
     },
     "execution_count": 10,
     "metadata": {},
     "output_type": "execute_result"
    },
    {
     "data": {
      "image/png": "[encoded data removed]",
      "text/plain": [
       "<Figure size 640x480 with 1 Axes>"
      ]
     },
     "metadata": {},
     "output_type": "display_data"
    }
   ],
   "source": [
    "df_histogram = df_rawData['GallonsPer100MilesTo1981'].hist( color=\"plum\", edgecolor=\"plum\")\n",
    "plt.xlabel('X')\n",
    "plt.ylabel('%, n=')\n",
    "\n",
    "df_histogram"
   ]
  },
  {
   "cell_type": "code",
   "execution_count": 11,
   "metadata": {},
   "outputs": [
    {
     "data": {
      "text/plain": [
       "<Axes: xlabel='X', ylabel='%, n='>"
      ]
     },
     "execution_count": 11,
     "metadata": {},
     "output_type": "execute_result"
    },
    {
     "data": {
      "image/png": "[encoded data removed]",
      "text/plain": [
       "<Figure size 640x480 with 1 Axes>"
      ]
     },
     "metadata": {},
     "output_type": "display_data"
    }
   ],
   "source": [
    "df_histogram = df_rawData['MPG'].hist( color=\"plum\", edgecolor=\"plum\")\n",
    "plt.xlabel('X')\n",
    "plt.ylabel('%, n=')\n",
    "\n",
    "df_histogram"
   ]
  },
  {
   "cell_type": "code",
   "execution_count": 12,
   "metadata": {},
   "outputs": [
    {
     "data": {
      "text/plain": [
       "<Axes: xlabel='X', ylabel='%, n='>"
      ]
     },
     "execution_count": 12,
     "metadata": {},
     "output_type": "execute_result"
    },
    {
     "data": {
      "image/png": "[encoded data removed]",
      "text/plain": [
       "<Figure size 640x480 with 1 Axes>"
      ]
     },
     "metadata": {},
     "output_type": "display_data"
    }
   ],
   "source": [
    "df_histogram = df_rawData['Cylinders'].hist( color=\"plum\", edgecolor=\"plum\")\n",
    "plt.xlabel('X')\n",
    "plt.ylabel('%, n=')\n",
    "\n",
    "df_histogram"
   ]
  },
  {
   "cell_type": "code",
   "execution_count": 13,
   "metadata": {},
   "outputs": [
    {
     "data": {
      "text/plain": [
       "<Axes: xlabel='X', ylabel='%, n='>"
      ]
     },
     "execution_count": 13,
     "metadata": {},
     "output_type": "execute_result"
    },
    {
     "data": {
      "image/png": "[encoded data removed]",
      "text/plain": [
       "<Figure size 640x480 with 1 Axes>"
      ]
     },
     "metadata": {},
     "output_type": "display_data"
    }
   ],
   "source": [
    "df_histogram = df_rawData['Displacement100ci'].hist( color=\"plum\", edgecolor=\"plum\")\n",
    "plt.xlabel('X')\n",
    "plt.ylabel('%, n=')\n",
    "\n",
    "df_histogram"
   ]
  },
  {
   "cell_type": "code",
   "execution_count": 14,
   "metadata": {},
   "outputs": [
    {
     "data": {
      "text/plain": [
       "<Axes: xlabel='X', ylabel='%, n='>"
      ]
     },
     "execution_count": 14,
     "metadata": {},
     "output_type": "execute_result"
    },
    {
     "data": {
      "image/png": "[encoded data removed]",
      "text/plain": [
       "<Figure size 640x480 with 1 Axes>"
      ]
     },
     "metadata": {},
     "output_type": "display_data"
    }
   ],
   "source": [
    "df_histogram = df_rawData['Horsepower100'].hist( color=\"plum\", edgecolor=\"plum\")\n",
    "plt.xlabel('X')\n",
    "plt.ylabel('%, n=')\n",
    "\n",
    "df_histogram"
   ]
  },
  {
   "cell_type": "code",
   "execution_count": 15,
   "metadata": {},
   "outputs": [
    {
     "data": {
      "text/plain": [
       "<Axes: xlabel='X', ylabel='%, n='>"
      ]
     },
     "execution_count": 15,
     "metadata": {},
     "output_type": "execute_result"
    },
    {
     "data": {
      "image/png": "[encoded data removed]",
      "text/plain": [
       "<Figure size 640x480 with 1 Axes>"
      ]
     },
     "metadata": {},
     "output_type": "display_data"
    }
   ],
   "source": [
    "df_histogram = df_rawData['Weight1000lb'].hist( color=\"plum\", edgecolor=\"plum\")\n",
    "plt.xlabel('X')\n",
    "plt.ylabel('%, n=')\n",
    "\n",
    "df_histogram"
   ]
  }
 ],
 "metadata": {
  "kernelspec": {
   "display_name": "Python 3",
   "language": "python",
   "name": "python3"
  },
  "language_info": {
   "codemirror_mode": {
    "name": "ipython",
    "version": 3
   },
   "file_extension": ".py",
   "mimetype": "text/x-python",
   "name": "python",
   "nbconvert_exporter": "python",
   "pygments_lexer": "ipython3",
   "version": "3.11.3"
  }
 },
 "nbformat": 4,
 "nbformat_minor": 2
}
